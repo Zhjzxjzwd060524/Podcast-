{
 "cells": [
  {
   "cell_type": "code",
   "execution_count": 3,
   "metadata": {},
   "outputs": [],
   "source": [
    "import pandas as pd\n",
    "import matplotlib.pyplot as plt\n",
    "import seaborn as sns\n",
    "import numpy as np\n",
    "\n",
    "\n",
    "# Load the dataset\n",
    "df = pd.read_csv(\"train.csv\")"
   ]
  },
  {
   "cell_type": "code",
   "execution_count": 4,
   "metadata": {},
   "outputs": [
    {
     "name": "stdout",
     "output_type": "stream",
     "text": [
      "Dataset Shape: (750000, 12)\n",
      "\n",
      "Column Info:\n",
      "<class 'pandas.core.frame.DataFrame'>\n",
      "RangeIndex: 750000 entries, 0 to 749999\n",
      "Data columns (total 12 columns):\n",
      " #   Column                       Non-Null Count   Dtype  \n",
      "---  ------                       --------------   -----  \n",
      " 0   id                           750000 non-null  int64  \n",
      " 1   Podcast_Name                 750000 non-null  object \n",
      " 2   Episode_Title                750000 non-null  object \n",
      " 3   Episode_Length_minutes       662907 non-null  float64\n",
      " 4   Genre                        750000 non-null  object \n",
      " 5   Host_Popularity_percentage   750000 non-null  float64\n",
      " 6   Publication_Day              750000 non-null  object \n",
      " 7   Publication_Time             750000 non-null  object \n",
      " 8   Guest_Popularity_percentage  603970 non-null  float64\n",
      " 9   Number_of_Ads                749999 non-null  float64\n",
      " 10  Episode_Sentiment            750000 non-null  object \n",
      " 11  Listening_Time_minutes       750000 non-null  float64\n",
      "dtypes: float64(5), int64(1), object(6)\n",
      "memory usage: 68.7+ MB\n",
      "None\n",
      "\n",
      "First 5 Rows:\n",
      "   id     Podcast_Name Episode_Title  Episode_Length_minutes       Genre  \\\n",
      "0   0  Mystery Matters    Episode 98                     NaN  True Crime   \n",
      "1   1    Joke Junction    Episode 26                  119.80      Comedy   \n",
      "2   2   Study Sessions    Episode 16                   73.90   Education   \n",
      "3   3   Digital Digest    Episode 45                   67.17  Technology   \n",
      "4   4      Mind & Body    Episode 86                  110.51      Health   \n",
      "\n",
      "   Host_Popularity_percentage Publication_Day Publication_Time  \\\n",
      "0                       74.81        Thursday            Night   \n",
      "1                       66.95        Saturday        Afternoon   \n",
      "2                       69.97         Tuesday          Evening   \n",
      "3                       57.22          Monday          Morning   \n",
      "4                       80.07          Monday        Afternoon   \n",
      "\n",
      "   Guest_Popularity_percentage  Number_of_Ads Episode_Sentiment  \\\n",
      "0                          NaN            0.0          Positive   \n",
      "1                        75.95            2.0          Negative   \n",
      "2                         8.97            0.0          Negative   \n",
      "3                        78.70            2.0          Positive   \n",
      "4                        58.68            3.0           Neutral   \n",
      "\n",
      "   Listening_Time_minutes  \n",
      "0                31.41998  \n",
      "1                88.01241  \n",
      "2                44.92531  \n",
      "3                46.27824  \n",
      "4                75.61031  \n"
     ]
    }
   ],
   "source": [
    "# 1. Basic Data Inspection\n",
    "print(\"Dataset Shape:\", df.shape)\n",
    "print(\"\\nColumn Info:\")\n",
    "print(df.info())\n",
    "print(\"\\nFirst 5 Rows:\")\n",
    "print(df.head())"
   ]
  },
  {
   "cell_type": "code",
   "execution_count": 5,
   "metadata": {},
   "outputs": [
    {
     "name": "stdout",
     "output_type": "stream",
     "text": [
      "\n",
      "Missing Values:\n",
      "Episode_Length_minutes          87093\n",
      "Guest_Popularity_percentage    146030\n",
      "Number_of_Ads                       1\n",
      "dtype: int64\n"
     ]
    }
   ],
   "source": [
    "# 2. Missing Values Analysis\n",
    "print(\"\\nMissing Values:\")\n",
    "missing_values = df.isnull().sum()\n",
    "print(missing_values[missing_values > 0])"
   ]
  },
  {
   "cell_type": "code",
   "execution_count": 6,
   "metadata": {},
   "outputs": [],
   "source": [
    "# Visualize missing values\n",
    "plt.figure(figsize=(10, 6))\n",
    "sns.heatmap(df.isnull(), cbar=False, cmap='viridis')\n",
    "plt.title(\"Missing Values Heatmap\")\n",
    "plt.savefig('missing_values_heatmap.png')\n",
    "plt.close()"
   ]
  },
  {
   "cell_type": "code",
   "execution_count": 7,
   "metadata": {},
   "outputs": [
    {
     "name": "stdout",
     "output_type": "stream",
     "text": [
      "\n",
      "Summary Statistics for Numerical Columns:\n",
      "       Episode_Length_minutes  Host_Popularity_percentage  \\\n",
      "count           662907.000000               750000.000000   \n",
      "mean                64.504738                   59.859901   \n",
      "std                 32.969603                   22.873098   \n",
      "min                  0.000000                    1.300000   \n",
      "25%                 35.730000                   39.410000   \n",
      "50%                 63.840000                   60.050000   \n",
      "75%                 94.070000                   79.530000   \n",
      "max                325.240000                  119.460000   \n",
      "\n",
      "       Guest_Popularity_percentage  Number_of_Ads  Listening_Time_minutes  \n",
      "count                603970.000000  749999.000000           750000.000000  \n",
      "mean                     52.236449       1.348855               45.437406  \n",
      "std                      28.451241       1.151130               27.138306  \n",
      "min                       0.000000       0.000000                0.000000  \n",
      "25%                      28.380000       0.000000               23.178350  \n",
      "50%                      53.580000       1.000000               43.379460  \n",
      "75%                      76.600000       2.000000               64.811580  \n",
      "max                     119.910000     103.910000              119.970000  \n"
     ]
    }
   ],
   "source": [
    "# 3. Summary Statistics for Numerical Columns\n",
    "numerical_cols = ['Episode_Length_minutes', 'Host_Popularity_percentage', \n",
    "                 'Guest_Popularity_percentage', 'Number_of_Ads', 'Listening_Time_minutes']\n",
    "print(\"\\nSummary Statistics for Numerical Columns:\")\n",
    "print(df[numerical_cols].describe())"
   ]
  },
  {
   "cell_type": "code",
   "execution_count": 8,
   "metadata": {},
   "outputs": [],
   "source": [
    "# 4. Distribution of Numerical Variables\n",
    "for col in numerical_cols:\n",
    "    plt.figure(figsize=(8, 5))\n",
    "    sns.histplot(df[col].dropna(), kde=True)\n",
    "    plt.title(f\"Distribution of {col}\")\n",
    "    plt.xlabel(col)\n",
    "    plt.ylabel(\"Count\")\n",
    "    plt.savefig(f'distribution_{col}.png')\n",
    "    plt.close()"
   ]
  },
  {
   "cell_type": "code",
   "execution_count": 9,
   "metadata": {},
   "outputs": [
    {
     "name": "stdout",
     "output_type": "stream",
     "text": [
      "\n",
      "Value Counts for Genre:\n",
      "Genre\n",
      "Sports        87606\n",
      "Technology    86256\n",
      "True Crime    85059\n",
      "Lifestyle     82461\n",
      "Comedy        81453\n",
      "Business      80521\n",
      "Health        71416\n",
      "News          63385\n",
      "Music         62743\n",
      "Education     49100\n",
      "Name: count, dtype: int64\n",
      "\n",
      "Value Counts for Publication_Day:\n",
      "Publication_Day\n",
      "Sunday       115946\n",
      "Monday       111963\n",
      "Friday       108237\n",
      "Wednesday    107886\n",
      "Thursday     104360\n",
      "Saturday     103505\n",
      "Tuesday       98103\n",
      "Name: count, dtype: int64\n",
      "\n",
      "Value Counts for Publication_Time:\n",
      "Publication_Time\n",
      "Night        196849\n",
      "Evening      195778\n",
      "Afternoon    179460\n",
      "Morning      177913\n",
      "Name: count, dtype: int64\n",
      "\n",
      "Value Counts for Episode_Sentiment:\n",
      "Episode_Sentiment\n",
      "Neutral     251291\n",
      "Negative    250116\n",
      "Positive    248593\n",
      "Name: count, dtype: int64\n"
     ]
    }
   ],
   "source": [
    "# 5. Categorical Variables Analysis\n",
    "categorical_cols = ['Genre', 'Publication_Day', 'Publication_Time', 'Episode_Sentiment']\n",
    "for col in categorical_cols:\n",
    "    print(f\"\\nValue Counts for {col}:\")\n",
    "    print(df[col].value_counts())\n",
    "    \n",
    "    plt.figure(figsize=(10, 5))\n",
    "    sns.countplot(x=col, data=df, order=df[col].value_counts().index)\n",
    "    plt.title(f\"Count of {col}\")\n",
    "    plt.xticks(rotation=45)\n",
    "    plt.savefig(f'count_{col}.png')\n",
    "    plt.close()"
   ]
  },
  {
   "cell_type": "code",
   "execution_count": 10,
   "metadata": {},
   "outputs": [],
   "source": [
    "# 6. Target Variable vs Categorical Variables (Boxplots)\n",
    "for col in categorical_cols:\n",
    "    plt.figure(figsize=(12, 6))\n",
    "    sns.boxplot(x=col, y='Listening_Time_minutes', data=df)\n",
    "    plt.title(f\"Listening Time vs {col}\")\n",
    "    plt.xticks(rotation=45)\n",
    "    plt.savefig(f'boxplot_listening_time_vs_{col}.png')\n",
    "    plt.close()"
   ]
  },
  {
   "cell_type": "code",
   "execution_count": 11,
   "metadata": {},
   "outputs": [],
   "source": [
    "# 7. Correlation Analysis for Numerical Variables\n",
    "plt.figure(figsize=(10, 8))\n",
    "corr_matrix = df[numerical_cols].corr()\n",
    "sns.heatmap(corr_matrix, annot=True, cmap='coolwarm', center=0)\n",
    "plt.title(\"Correlation Heatmap of Numerical Variables\")\n",
    "plt.savefig('correlation_heatmap.png')\n",
    "plt.close()"
   ]
  },
  {
   "cell_type": "code",
   "execution_count": 12,
   "metadata": {},
   "outputs": [
    {
     "name": "stderr",
     "output_type": "stream",
     "text": [
      "/var/folders/fh/r0stl1bx4w301kkr6zd_t49h0000gn/T/ipykernel_63622/2171665084.py:5: UserWarning: Creating legend with loc=\"best\" can be slow with large amounts of data.\n",
      "  plt.savefig('scatter_episode_length_vs_listening_time.png')\n"
     ]
    }
   ],
   "source": [
    "# 8. Scatter Plot: Episode Length vs Listening Time\n",
    "plt.figure(figsize=(8, 6))\n",
    "sns.scatterplot(x='Episode_Length_minutes', y='Listening_Time_minutes', hue='Genre', size='Number_of_Ads', data=df)\n",
    "plt.title(\"Episode Length vs Listening Time by Genre and Number of Ads\")\n",
    "plt.savefig('scatter_episode_length_vs_listening_time.png')\n",
    "plt.close()"
   ]
  },
  {
   "cell_type": "code",
   "execution_count": 13,
   "metadata": {},
   "outputs": [
    {
     "name": "stdout",
     "output_type": "stream",
     "text": [
      "\n",
      "Average Listening Time by Genre:\n",
      "Genre\n",
      "News          44.406144\n",
      "Comedy        44.426441\n",
      "Sports        44.935722\n",
      "Lifestyle     45.523117\n",
      "Business      45.538151\n",
      "Technology    45.634749\n",
      "Education     45.736640\n",
      "Health        45.741413\n",
      "True Crime    46.042507\n",
      "Music         46.578394\n",
      "Name: Listening_Time_minutes, dtype: float64\n",
      "\n",
      "Average Listening Time by Publication Day:\n",
      "Publication_Day\n",
      "Sunday       44.817398\n",
      "Thursday     44.869706\n",
      "Friday       45.206591\n",
      "Saturday     45.326775\n",
      "Wednesday    45.807177\n",
      "Monday       45.969630\n",
      "Tuesday      46.131411\n",
      "Name: Listening_Time_minutes, dtype: float64\n"
     ]
    }
   ],
   "source": [
    "# 9. Groupby Analysis: Average Listening Time by Genre and Publication Day\n",
    "print(\"\\nAverage Listening Time by Genre:\")\n",
    "print(df.groupby('Genre')['Listening_Time_minutes'].mean().sort_values())\n",
    "print(\"\\nAverage Listening Time by Publication Day:\")\n",
    "print(df.groupby('Publication_Day')['Listening_Time_minutes'].mean().sort_values())"
   ]
  }
 ],
 "metadata": {
  "kernelspec": {
   "display_name": "Python 3",
   "language": "python",
   "name": "python3"
  },
  "language_info": {
   "codemirror_mode": {
    "name": "ipython",
    "version": 3
   },
   "file_extension": ".py",
   "mimetype": "text/x-python",
   "name": "python",
   "nbconvert_exporter": "python",
   "pygments_lexer": "ipython3",
   "version": "3.13.0"
  }
 },
 "nbformat": 4,
 "nbformat_minor": 2
}
